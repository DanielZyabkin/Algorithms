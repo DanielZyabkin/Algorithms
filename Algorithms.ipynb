{
 "cells": [
  {
   "cell_type": "code",
   "execution_count": 14,
   "id": "db491409",
   "metadata": {},
   "outputs": [
    {
     "name": "stdout",
     "output_type": "stream",
     "text": [
      "3\n",
      "3\n",
      "1 2 -4\n",
      "0 -1 -5\n",
      "-1 -2 -7\n",
      "6\n"
     ]
    }
   ],
   "source": [
    "'''\n",
    "    Вам задана матрица  a из целых чисел c  n  строками и  m\n",
    " столбцами. Она отсортирована по следующему правилу:\n",
    "Каждая строка матрицы отсортирована по невозрастанию слева направо\n",
    "Каждый столбец матрицы отсортирован по невозрастанию сверху вниз\n",
    "Необходимо посчитать количество отрицательных чисел в матрице.\n",
    "\n",
    "Выведите одно число  — количество отрицательных чисел в матрице.\n",
    "'''\n",
    "\n",
    "n = int(input()) #столбцы\n",
    "m = int(input()) #строки\n",
    "nums = []\n",
    "k = 0\n",
    "for i in range(n):\n",
    "    row = input().split()\n",
    "    for j in range(m):\n",
    "        row[j] = int(row[j])\n",
    "    nums.append(row)\n",
    "s = m\n",
    "for i in range(n):\n",
    "    for j in range(s):\n",
    "        if nums[i][j]  < 0:\n",
    "            k += (s - j) * (n - i)\n",
    "            s = j\n",
    "            break\n",
    "\n",
    "print(k)"
   ]
  },
  {
   "cell_type": "code",
   "execution_count": null,
   "id": "cad60756",
   "metadata": {},
   "outputs": [],
   "source": [
    "'''\n",
    "    Рассмотрим следующий процесс: для заданного целого неотрицательного числа \n",
    "x\n",
    " вычислим его сумму цифр, если результат имеет более одной цифры, вычислим сумму цифр от суммы цифр, если и \n",
    " после этого результат содержит более одной цифры, возьмем сумму цифр от результата еще раз и так \n",
    " пока не получим число, состоящее из одной цифры. Вам дано начальное число \n",
    "x\n",
    ", найдите цифру, которая получится в результате процесса, описанного выше.\n",
    "'''\n",
    "s = input()\n",
    "nums = []\n",
    "arr = []\n",
    "k = 0\n",
    "for i in range(len(s)):\n",
    "    nums.append(int(s[i]))\n",
    "\n",
    "for j in range(len(nums)):\n",
    "    k += nums[i]\n",
    "\n",
    "i = 0\n",
    "num = int(s)\n",
    "while k > 9:\n",
    "    k = 0\n",
    "    while num > 0:\n",
    "        k += num % 10\n",
    "        num //= 10\n",
    "    if k > 9:\n",
    "        num = k\n",
    "        \n",
    "print(k)"
   ]
  },
  {
   "cell_type": "code",
   "execution_count": null,
   "id": "ac2c7090",
   "metadata": {},
   "outputs": [],
   "source": [
    "s = int(input())\n",
    "num = s\n",
    "k = 0\n",
    "while s > 0:\n",
    "        k += s % 10\n",
    "        s //= 10\n",
    "        \n",
    "while k > 9:\n",
    "    k = 0\n",
    "    while num > 0:\n",
    "        k += num % 10\n",
    "        num //= 10\n",
    "    if k > 9:\n",
    "        num = k\n",
    "        \n",
    "print(k)"
   ]
  },
  {
   "cell_type": "code",
   "execution_count": 23,
   "id": "95ec767d",
   "metadata": {},
   "outputs": [
    {
     "name": "stdout",
     "output_type": "stream",
     "text": [
      "13257\n",
      "It is  3  hours  40  minutes\n"
     ]
    }
   ],
   "source": [
    "'''\n",
    "    Идёт k-я секунда суток. Определите, сколько целых часов h и целых минут m прошло с начала суток.\n",
    "'''\n",
    "\n",
    "k = int(input())\n",
    "h = k // 3600\n",
    "m = k // 60 - h * 60\n",
    "\n",
    "print('It is ',h,' hours ',m,' minutes.')\n",
    "\n",
    "\n",
    "\n",
    "\n",
    "\n",
    "\n",
    "\n",
    "\n",
    "\n",
    "\n",
    "\n",
    "\n",
    "\n",
    "\n",
    "\n",
    "\n",
    "\n",
    "\n",
    "\n",
    "\n",
    "\n",
    "\n",
    "\n",
    "\n",
    "\n",
    "\n",
    "\n",
    "\n"
   ]
  },
  {
   "cell_type": "code",
   "execution_count": 27,
   "id": "2839e726",
   "metadata": {},
   "outputs": [
    {
     "name": "stdout",
     "output_type": "stream",
     "text": [
      "95971372997\n",
      "5 6 7 8 9 10\n",
      "99\n"
     ]
    }
   ],
   "source": [
    "'''\n",
    "    Недавно, разбирая завалы оставшегося после работы в НИИ хлама, Инженер обнаружил в одной из клетчатых сумок загадочную линейку: она имела ровно сто делений, однако числа на них не укладывались ни в одну известную ему мерную шкалу.\n",
    "На обороте была выгравирована формула:\n",
    "a[0] + a[1]*x + a[2]*(x**(2)) + a[3]*(x**(3)) + a[4]*(x**(4)) + a[5]*(x**(5)) == Q\n",
    "Трех миллисекунд хватило Инженеру, чтобы понять: эта формула и задает значения на линейке. А нужна она для определения количества гвоздей Q, необходимых для постройки ракеты, в зависимости от ее длины x.\n",
    "Ракету, конечно, как и страну, давно уже разобрали на металлолом. Однако Инженер отлично помнит то количество гвоздей Q, которое на нее потратили.\n",
    "Помогите ему по количеству гвоздей Q найти исходную длину ракеты x.\n",
    "'''\n",
    "\n",
    "Q = int(input())\n",
    "a = [int(l) for l in input().split()]\n",
    "s = -1\n",
    "for x in range(100):\n",
    "    if a[0] + a[1]*x + a[2]*(x**(2)) + a[3]*(x**(3)) + a[4]*(x**(4)) + a[5]*(x**(5)) == Q:\n",
    "        print(x)\n",
    "        s = x\n",
    "        break\n",
    "if s == -1:\n",
    "    print(-1)"
   ]
  },
  {
   "cell_type": "code",
   "execution_count": 38,
   "id": "b79bd229",
   "metadata": {},
   "outputs": [
    {
     "name": "stdout",
     "output_type": "stream",
     "text": [
      "bbb\n",
      "abb\n"
     ]
    }
   ],
   "source": [
    "'''\n",
    "    Палиндромом называется строка, которая читается одинаково слева-направо и справа-налево.\n",
    "В заданной строке-палиндроме необходимо заменить один символ, чтобы она перестала быть палиндромом. \n",
    "ри этом полученная строка должна быть лексикографически минимальной.\n",
    "Строка A лексикографически меньше строки B (той же длины), если на первой различающейся \n",
    "позиции в строке A стоит меньший символ, чем в B. Например, строка adbc меньше строки adca, т.к. первые\n",
    "два символа в строках совпадают, а на третьем месте в строке adbc стоит символ b, \n",
    "который меньше символа c, стоящего на третьей позиции в строке adca.\n",
    "'''\n",
    "\n",
    "s = input()\n",
    "def pbrake(s):\n",
    "    for i in range(len(s)):\n",
    "        if s[i] != 'a':\n",
    "            result = s[:i-1] + 'a' + s[i:]\n",
    "    return result\n",
    "\n",
    "if len(s) == 1:\n",
    "    if s[0] == 'a':\n",
    "        result = ''\n",
    "    else:\n",
    "        result = 'a'\n",
    "else:\n",
    "    if s[0] != 'a':\n",
    "        result = 'a' + s[1:]\n",
    "    else:\n",
    "        result = pbrake(s)\n",
    "        \n",
    "print(result)"
   ]
  },
  {
   "cell_type": "code",
   "execution_count": 5,
   "id": "e0791cfe",
   "metadata": {},
   "outputs": [
    {
     "name": "stdout",
     "output_type": "stream",
     "text": [
      "aba\n",
      "baa\n",
      "YES\n"
     ]
    }
   ],
   "source": [
    "'''\n",
    "    Задано две строки, нужно проверить, является ли одна анаграммой другой. \n",
    "    Анаграммой называется строка, полученная из другой перестановкой букв.\n",
    "'''\n",
    "\n",
    "if sorted(input()) == sorted(input()):\n",
    "    print('YES')\n",
    "else:\n",
    "    print('NO')\n"
   ]
  },
  {
   "cell_type": "code",
   "execution_count": null,
   "id": "6fcf38b4",
   "metadata": {},
   "outputs": [],
   "source": []
  }
 ],
 "metadata": {
  "kernelspec": {
   "display_name": "Python 3 (ipykernel)",
   "language": "python",
   "name": "python3"
  },
  "language_info": {
   "codemirror_mode": {
    "name": "ipython",
    "version": 3
   },
   "file_extension": ".py",
   "mimetype": "text/x-python",
   "name": "python",
   "nbconvert_exporter": "python",
   "pygments_lexer": "ipython3",
   "version": "3.11.5"
  }
 },
 "nbformat": 4,
 "nbformat_minor": 5
}
